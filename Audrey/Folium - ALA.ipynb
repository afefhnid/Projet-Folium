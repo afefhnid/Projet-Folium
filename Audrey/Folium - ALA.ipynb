{
 "cells": [
  {
   "cell_type": "markdown",
   "metadata": {},
   "source": [
    "Recupération des restaurant du site lefooding "
   ]
  },
  {
   "cell_type": "code",
   "execution_count": 1,
   "metadata": {},
   "outputs": [
    {
     "name": "stdout",
     "output_type": "stream",
     "text": [
      "https://lefooding.com/fr/search?type=restaurant&filters[geo][city][]=526ba3f07f55b7f39a007e28&page=1&sort=&per_page=460&total_pages=46 200\n"
     ]
    }
   ],
   "source": [
    "import json\n",
    "import requests\n",
    "import pandas as pd\n",
    "\n",
    "\n",
    "url='https://lefooding.com/fr/search?type=restaurant&filters[geo][city][]=526ba3f07f55b7f39a007e28&page=1&sort=&per_page=460&total_pages=46'\n",
    "r=requests.get(url)\n",
    "print(url,r.status_code)\n"
   ]
  },
  {
   "cell_type": "markdown",
   "metadata": {},
   "source": [
    "Enregistrement du json dans un .txt"
   ]
  },
  {
   "cell_type": "code",
   "execution_count": 2,
   "metadata": {},
   "outputs": [],
   "source": [
    "data=r.json()\n",
    "with open('data.txt', 'w') as outfile:\n",
    "    json.dump(data, outfile)\n"
   ]
  },
  {
   "cell_type": "markdown",
   "metadata": {},
   "source": [
    "Engistrement en dataframe"
   ]
  },
  {
   "cell_type": "code",
   "execution_count": 3,
   "metadata": {},
   "outputs": [
    {
     "name": "stdout",
     "output_type": "stream",
     "text": [
      "460 460\n"
     ]
    }
   ],
   "source": [
    "#compte du nombre de restaurant récupéré\n",
    "#1-\n",
    "i=0\n",
    "for elem in data['results']:\n",
    "    i=i+1\n",
    "    \n",
    "#2-\n",
    "j=len(data['results'])\n",
    "\n",
    "print (j,i)"
   ]
  },
  {
   "cell_type": "code",
   "execution_count": 4,
   "metadata": {},
   "outputs": [
    {
     "data": {
      "text/plain": [
       "[{'id': '5db9cca342719ae4a3000240',\n",
       "  'type': 'Restaurant',\n",
       "  'name': 'Shinjuku Pigalle',\n",
       "  'address': {'_id': '5db9cca342719ae4a300023f',\n",
       "   'city': 'Paris',\n",
       "   'country': 'France',\n",
       "   'created_at': '2019-10-30T18:47:15+01:00',\n",
       "   'department': 'Paris',\n",
       "   'position': [48.88030209999999, 2.34318559999997],\n",
       "   'postal_code': '75009',\n",
       "   'region': 'Région Île-de-France',\n",
       "   'street_name_1': '52, rue Condorcet',\n",
       "   'street_name_2': '',\n",
       "   'updated_at': '2019-10-30T18:47:15+01:00'},\n",
       "  'phone_num': '+33 1 42 06 18 14',\n",
       "  'cellphone_num': '',\n",
       "  'cravings': ['Japonais'],\n",
       "  'extras': ['Antidépresseur', 'Manger seul '],\n",
       "  'price': ['De 16 à 35 €'],\n",
       "  'essentials': [],\n",
       "  'url': 'https://lefooding.com/fr/restaurants/restaurant-shinjuku-pigalle-paris',\n",
       "  'tags': [{'category': 'Les plus',\n",
       "    'type': 'zeplus',\n",
       "    'name': 'Antidépresseur'},\n",
       "   {'category': 'Prix', 'type': 'price', 'name': 'De 16 à 35 €'},\n",
       "   {'category': 'Cuisine', 'type': 'kitchen', 'name': 'Japonais'},\n",
       "   {'category': 'Transport', 'type': 'transport', 'name': 'Anvers'},\n",
       "   {'category': 'Transport', 'type': 'transport', 'name': 'Pigalle'},\n",
       "   {'category': 'Les plus', 'type': 'zeplus', 'name': 'Manger seul '}],\n",
       "  'sorted_tags': {'zeplus': ['Antidépresseur', 'Manger seul '],\n",
       "   'price': ['De 16 à 35 €'],\n",
       "   'kitchen': ['Japonais'],\n",
       "   'transport': ['Anvers', 'Pigalle']},\n",
       "  'website': '',\n",
       "  'thumbnail': '/media/W1siZiIsIjIwMTkvMTAvMzAvMTlfMDVfMTVfNjQ1X3Jlc3RhdXJhbnRfc2hpbmp1a3VfcGFyaXMuanBlZyJdLFsicCIsInRodW1iIiwiMjA3eDEzNiMiXV0/restaurant-shinjuku-paris.jpeg?sha=73404f91'}]"
      ]
     },
     "execution_count": 4,
     "metadata": {},
     "output_type": "execute_result"
    }
   ],
   "source": [
    "data['results'][:1]"
   ]
  },
  {
   "cell_type": "code",
   "execution_count": 5,
   "metadata": {},
   "outputs": [
    {
     "name": "stdout",
     "output_type": "stream",
     "text": [
      "460 460 460 460 460 460 460 460\n"
     ]
    }
   ],
   "source": [
    "# nom addresse phone_num cravings price \n",
    "l_name=[]\n",
    "l_address=[]\n",
    "l_city=[]\n",
    "l_postal_code=[]\n",
    "l_log=[]\n",
    "l_lat=[]\n",
    "l_phone=[]\n",
    "lis_cravings=[]\n",
    "l_cravings=[]\n",
    "l_price=[]\n",
    "for elem in data['results']:\n",
    "    l_address.append(elem['address']['street_name_1'])\n",
    "    l_name.append(elem['name'])\n",
    "    l_city.append(elem['address']['city'])\n",
    "    l_log.append(elem['address']['position'][1])\n",
    "    l_lat.append(elem['address']['position'][0])\n",
    "    l_postal_code.append(elem['address']['postal_code'])\n",
    "    l_phone.append(elem['phone_num'])\n",
    "    l_cravings.append(','.join(elem['cravings']))\n",
    "    lis_cravings.append(elem['cravings'])\n",
    "    \n",
    "    l_price.append(','.join(elem['price']))\n",
    "    \n",
    "print (len(l_name),len(l_city),len(l_log),len(l_lat),len(l_postal_code),len(l_phone),len(l_cravings),len(l_price))\n"
   ]
  },
  {
   "cell_type": "code",
   "execution_count": 6,
   "metadata": {},
   "outputs": [
    {
     "data": {
      "text/html": [
       "<div>\n",
       "<style scoped>\n",
       "    .dataframe tbody tr th:only-of-type {\n",
       "        vertical-align: middle;\n",
       "    }\n",
       "\n",
       "    .dataframe tbody tr th {\n",
       "        vertical-align: top;\n",
       "    }\n",
       "\n",
       "    .dataframe thead th {\n",
       "        text-align: right;\n",
       "    }\n",
       "</style>\n",
       "<table border=\"1\" class=\"dataframe\">\n",
       "  <thead>\n",
       "    <tr style=\"text-align: right;\">\n",
       "      <th></th>\n",
       "      <th>Nom</th>\n",
       "      <th>Ville</th>\n",
       "      <th>Voie</th>\n",
       "      <th>CP</th>\n",
       "      <th>Télephone</th>\n",
       "      <th>Spécialitées</th>\n",
       "      <th>Prix</th>\n",
       "      <th>Latitute</th>\n",
       "      <th>Longitude</th>\n",
       "    </tr>\n",
       "  </thead>\n",
       "  <tbody>\n",
       "    <tr>\n",
       "      <th>352</th>\n",
       "      <td>Elmer l'Epicerie</td>\n",
       "      <td>Paris</td>\n",
       "      <td>19, rue Notre-Dame-de-Nazareth</td>\n",
       "      <td>75003</td>\n",
       "      <td>+33 1 40 09 80 47</td>\n",
       "      <td>Sandwichs / Bagels,Planches / Assiettes froide...</td>\n",
       "      <td>Moins de 15 €</td>\n",
       "      <td>48.867204</td>\n",
       "      <td>2.359798</td>\n",
       "    </tr>\n",
       "    <tr>\n",
       "      <th>62</th>\n",
       "      <td>Pianovins</td>\n",
       "      <td>Paris</td>\n",
       "      <td>46, rue Trousseau</td>\n",
       "      <td>75011</td>\n",
       "      <td>+33 1 48 06 95 85</td>\n",
       "      <td>Néobistrot</td>\n",
       "      <td>De 36 à 50 €</td>\n",
       "      <td>48.852365</td>\n",
       "      <td>2.379242</td>\n",
       "    </tr>\n",
       "    <tr>\n",
       "      <th>308</th>\n",
       "      <td>Racines</td>\n",
       "      <td>Paris</td>\n",
       "      <td>8, passage des Panoramas</td>\n",
       "      <td>75002</td>\n",
       "      <td>+ 33 1 40 13 06 41</td>\n",
       "      <td>Bistrot,Italien</td>\n",
       "      <td>De 36 à 50 €</td>\n",
       "      <td>48.871252</td>\n",
       "      <td>2.341854</td>\n",
       "    </tr>\n",
       "    <tr>\n",
       "      <th>34</th>\n",
       "      <td>Ze Kitchen Galerie</td>\n",
       "      <td>Paris</td>\n",
       "      <td>4, rue des Grands-Augustins</td>\n",
       "      <td>75006</td>\n",
       "      <td>+33 1 44 32 00 32</td>\n",
       "      <td>Cuisine d'auteur</td>\n",
       "      <td>Plus de 51 €</td>\n",
       "      <td>48.854970</td>\n",
       "      <td>2.341130</td>\n",
       "    </tr>\n",
       "    <tr>\n",
       "      <th>116</th>\n",
       "      <td>Le Myrobolant</td>\n",
       "      <td>Paris</td>\n",
       "      <td>140, rue Saint-Maur</td>\n",
       "      <td>75011</td>\n",
       "      <td>+33 1 71 28 84 79</td>\n",
       "      <td>Cuisine du marché,Néobistrot,Bar à vins / Cave...</td>\n",
       "      <td>De 16 à 35 €</td>\n",
       "      <td>48.868560</td>\n",
       "      <td>2.374911</td>\n",
       "    </tr>\n",
       "    <tr>\n",
       "      <th>415</th>\n",
       "      <td>Siseng</td>\n",
       "      <td>Paris</td>\n",
       "      <td>82, quai de Jemmapes</td>\n",
       "      <td>75010</td>\n",
       "      <td>+33 9 51 55 15 77</td>\n",
       "      <td>Asiatique</td>\n",
       "      <td>De 16 à 35 €</td>\n",
       "      <td>48.872294</td>\n",
       "      <td>2.365124</td>\n",
       "    </tr>\n",
       "    <tr>\n",
       "      <th>285</th>\n",
       "      <td>PNY Fbg Saint-Denis</td>\n",
       "      <td>Paris</td>\n",
       "      <td>50, rue du Faubourg Saint-Denis</td>\n",
       "      <td>75010</td>\n",
       "      <td>+33 1 47 70 15 24</td>\n",
       "      <td>Burgers,Lèche-doigts</td>\n",
       "      <td>Moins de 15 €</td>\n",
       "      <td>48.871902</td>\n",
       "      <td>2.353994</td>\n",
       "    </tr>\n",
       "    <tr>\n",
       "      <th>257</th>\n",
       "      <td>Café Noisette</td>\n",
       "      <td>Paris</td>\n",
       "      <td>74, rue Olivier-de-Serres</td>\n",
       "      <td>75015</td>\n",
       "      <td>+33 1 45 35 86 21</td>\n",
       "      <td>Bistrot,Cuisine du marché,Tapas</td>\n",
       "      <td>De 16 à 35 €</td>\n",
       "      <td>48.833522</td>\n",
       "      <td>2.294466</td>\n",
       "    </tr>\n",
       "    <tr>\n",
       "      <th>439</th>\n",
       "      <td>Bistrotters</td>\n",
       "      <td>Paris</td>\n",
       "      <td>9, rue Decrès</td>\n",
       "      <td>75014</td>\n",
       "      <td>+33 1 45 45 58 59</td>\n",
       "      <td>Bistrot,Cuisine d'auteur,Terroir</td>\n",
       "      <td>De 36 à 50 €</td>\n",
       "      <td>48.832778</td>\n",
       "      <td>2.314876</td>\n",
       "    </tr>\n",
       "    <tr>\n",
       "      <th>181</th>\n",
       "      <td>Bioburger</td>\n",
       "      <td>Paris</td>\n",
       "      <td>45, rue des Petits Carreaux</td>\n",
       "      <td>75002</td>\n",
       "      <td>01 42 86 15 09</td>\n",
       "      <td>Biocool,Burgers</td>\n",
       "      <td>Moins de 15 €</td>\n",
       "      <td>48.868229</td>\n",
       "      <td>2.347356</td>\n",
       "    </tr>\n",
       "  </tbody>\n",
       "</table>\n",
       "</div>"
      ],
      "text/plain": [
       "                     Nom  Ville                             Voie     CP  \\\n",
       "352    Elmer l'Epicerie   Paris   19, rue Notre-Dame-de-Nazareth  75003   \n",
       "62             Pianovins  Paris                46, rue Trousseau  75011   \n",
       "308              Racines  Paris         8, passage des Panoramas  75002   \n",
       "34    Ze Kitchen Galerie  Paris      4, rue des Grands-Augustins  75006   \n",
       "116        Le Myrobolant  Paris              140, rue Saint-Maur  75011   \n",
       "415               Siseng  Paris             82, quai de Jemmapes  75010   \n",
       "285  PNY Fbg Saint-Denis  Paris  50, rue du Faubourg Saint-Denis  75010   \n",
       "257       Café Noisette   Paris        74, rue Olivier-de-Serres  75015   \n",
       "439         Bistrotters   Paris                    9, rue Decrès  75014   \n",
       "181            Bioburger  Paris      45, rue des Petits Carreaux  75002   \n",
       "\n",
       "              Télephone                                       Spécialitées  \\\n",
       "352   +33 1 40 09 80 47  Sandwichs / Bagels,Planches / Assiettes froide...   \n",
       "62    +33 1 48 06 95 85                                         Néobistrot   \n",
       "308  + 33 1 40 13 06 41                                    Bistrot,Italien   \n",
       "34    +33 1 44 32 00 32                                   Cuisine d'auteur   \n",
       "116   +33 1 71 28 84 79  Cuisine du marché,Néobistrot,Bar à vins / Cave...   \n",
       "415   +33 9 51 55 15 77                                          Asiatique   \n",
       "285   +33 1 47 70 15 24                               Burgers,Lèche-doigts   \n",
       "257   +33 1 45 35 86 21                    Bistrot,Cuisine du marché,Tapas   \n",
       "439   +33 1 45 45 58 59                   Bistrot,Cuisine d'auteur,Terroir   \n",
       "181      01 42 86 15 09                                    Biocool,Burgers   \n",
       "\n",
       "              Prix   Latitute  Longitude  \n",
       "352  Moins de 15 €  48.867204   2.359798  \n",
       "62    De 36 à 50 €  48.852365   2.379242  \n",
       "308   De 36 à 50 €  48.871252   2.341854  \n",
       "34    Plus de 51 €  48.854970   2.341130  \n",
       "116   De 16 à 35 €  48.868560   2.374911  \n",
       "415   De 16 à 35 €  48.872294   2.365124  \n",
       "285  Moins de 15 €  48.871902   2.353994  \n",
       "257   De 16 à 35 €  48.833522   2.294466  \n",
       "439   De 36 à 50 €  48.832778   2.314876  \n",
       "181  Moins de 15 €  48.868229   2.347356  "
      ]
     },
     "execution_count": 6,
     "metadata": {},
     "output_type": "execute_result"
    }
   ],
   "source": [
    "#Création d'un DataFrame\n",
    "\n",
    "df_resto=pd.DataFrame({'Nom':l_name,'Ville':l_city,'Voie':l_address,'CP':l_postal_code,'Télephone':l_phone,'Spécialitées':l_cravings, 'Prix':l_price,'Latitute':l_lat,'Longitude':l_log})\n",
    "\n",
    "#Affichage de  lignes au hasard\n",
    "df_resto.sample(10)"
   ]
  },
  {
   "cell_type": "code",
   "execution_count": 7,
   "metadata": {},
   "outputs": [
    {
     "data": {
      "text/plain": [
       "{'Afghan',\n",
       " 'Africain',\n",
       " 'Algérien',\n",
       " 'Américain',\n",
       " 'Argentin',\n",
       " 'Asiatique',\n",
       " 'Balkanique',\n",
       " 'Bar à vins / Cave à manger',\n",
       " 'Basque',\n",
       " 'Biocool',\n",
       " 'Bistrot',\n",
       " 'Brasserie',\n",
       " 'Burgers',\n",
       " 'Café / Coffee Shop',\n",
       " 'Cambodgien',\n",
       " 'Casse-croûte',\n",
       " 'Chinois',\n",
       " 'Coréen',\n",
       " 'Crêperie',\n",
       " \"Cuisine d'auteur\",\n",
       " 'Cuisine du marché',\n",
       " 'Espagnol',\n",
       " 'Grec',\n",
       " 'Guinguette',\n",
       " 'Géorgien',\n",
       " 'Indien / Pakistanais / Sri-lankais',\n",
       " 'Israélien',\n",
       " 'Italien',\n",
       " 'Japonais',\n",
       " 'Kebabs',\n",
       " 'Kurde',\n",
       " 'Laotien',\n",
       " 'Libanais',\n",
       " 'Lèche-doigts',\n",
       " 'Maghreb',\n",
       " 'Marocain',\n",
       " 'Mexicain',\n",
       " 'Méditerranéen',\n",
       " 'Nourritures mondaines',\n",
       " 'Néobistrot',\n",
       " 'Néobrasserie',\n",
       " 'Pizzas',\n",
       " 'Planches / Assiettes froides',\n",
       " 'Poissons et fruits de mer',\n",
       " 'Pâtes',\n",
       " 'Roumain',\n",
       " 'Salon de thé / Pâtisserie',\n",
       " 'Sandwichs / Bagels',\n",
       " 'Snack / Tartes / Salades / Soupes / Bols',\n",
       " 'Sud-Ouest',\n",
       " 'Sushis',\n",
       " 'Suédois',\n",
       " 'Syrien',\n",
       " \"Table d'hôte\",\n",
       " 'Tapas',\n",
       " 'Taïwanais',\n",
       " 'Terroir',\n",
       " 'Thaïlandais',\n",
       " 'Tibétain',\n",
       " 'Tunisien',\n",
       " 'Turc',\n",
       " 'Viandes / Grillades',\n",
       " 'Vietnamien',\n",
       " 'Végétarien',\n",
       " 'Yiddish'}"
      ]
     },
     "execution_count": 7,
     "metadata": {},
     "output_type": "execute_result"
    }
   ],
   "source": [
    "#Liste des spécialitées\n",
    "l_spe=[]\n",
    "for elem in lis_cravings:\n",
    "    for i in elem:\n",
    "        l_spe.append(i)\n",
    "    \n",
    "l_spe=set(l_spe)\n",
    "l_spe"
   ]
  },
  {
   "cell_type": "code",
   "execution_count": 8,
   "metadata": {},
   "outputs": [
    {
     "data": {
      "text/html": [
       "<div>\n",
       "<style scoped>\n",
       "    .dataframe tbody tr th:only-of-type {\n",
       "        vertical-align: middle;\n",
       "    }\n",
       "\n",
       "    .dataframe tbody tr th {\n",
       "        vertical-align: top;\n",
       "    }\n",
       "\n",
       "    .dataframe thead th {\n",
       "        text-align: right;\n",
       "    }\n",
       "</style>\n",
       "<table border=\"1\" class=\"dataframe\">\n",
       "  <thead>\n",
       "    <tr style=\"text-align: right;\">\n",
       "      <th></th>\n",
       "      <th>Nom</th>\n",
       "      <th>Ville</th>\n",
       "      <th>Voie</th>\n",
       "      <th>CP</th>\n",
       "      <th>Télephone</th>\n",
       "      <th>Spécialitées</th>\n",
       "      <th>Prix</th>\n",
       "      <th>Latitute</th>\n",
       "      <th>Longitude</th>\n",
       "    </tr>\n",
       "  </thead>\n",
       "  <tbody>\n",
       "    <tr>\n",
       "      <th>1</th>\n",
       "      <td>Basique</td>\n",
       "      <td>Paris</td>\n",
       "      <td>164, av. Ledru-Rollin</td>\n",
       "      <td>75011</td>\n",
       "      <td>+33 1 40 24 20 48</td>\n",
       "      <td>Tapas</td>\n",
       "      <td>De 16 à 35 €</td>\n",
       "      <td>48.856626</td>\n",
       "      <td>2.379403</td>\n",
       "    </tr>\n",
       "    <tr>\n",
       "      <th>51</th>\n",
       "      <td>Le Dauphin</td>\n",
       "      <td>Paris</td>\n",
       "      <td>131, av. Parmentier</td>\n",
       "      <td>75011</td>\n",
       "      <td>+33 1 55 28 78 88</td>\n",
       "      <td>Tapas,Bar à vins / Cave à manger</td>\n",
       "      <td>De 36 à 50 €</td>\n",
       "      <td>48.869447</td>\n",
       "      <td>2.371115</td>\n",
       "    </tr>\n",
       "    <tr>\n",
       "      <th>94</th>\n",
       "      <td>Le P’tit Pinard</td>\n",
       "      <td>Paris</td>\n",
       "      <td>18, rue Saint-Ambroise</td>\n",
       "      <td>75011</td>\n",
       "      <td>+33 9 87 02 00 11</td>\n",
       "      <td>Bistrot,Tapas,Bar à vins / Cave à manger</td>\n",
       "      <td>De 16 à 35 €</td>\n",
       "      <td>48.862374</td>\n",
       "      <td>2.378141</td>\n",
       "    </tr>\n",
       "    <tr>\n",
       "      <th>450</th>\n",
       "      <td>Aux Deux Amis</td>\n",
       "      <td>Paris</td>\n",
       "      <td>45, rue Oberkampf</td>\n",
       "      <td>75011</td>\n",
       "      <td>+33 1 58 30 38 13</td>\n",
       "      <td>Tapas,Bar à vins / Cave à manger</td>\n",
       "      <td>De 16 à 35 €</td>\n",
       "      <td>48.864598</td>\n",
       "      <td>2.371868</td>\n",
       "    </tr>\n",
       "  </tbody>\n",
       "</table>\n",
       "</div>"
      ],
      "text/plain": [
       "                 Nom  Ville                    Voie     CP          Télephone  \\\n",
       "1            Basique  Paris   164, av. Ledru-Rollin  75011  +33 1 40 24 20 48   \n",
       "51        Le Dauphin  Paris     131, av. Parmentier  75011  +33 1 55 28 78 88   \n",
       "94   Le P’tit Pinard  Paris  18, rue Saint-Ambroise  75011  +33 9 87 02 00 11   \n",
       "450    Aux Deux Amis  Paris      45, rue Oberkampf   75011  +33 1 58 30 38 13   \n",
       "\n",
       "                                 Spécialitées          Prix   Latitute  \\\n",
       "1                                       Tapas  De 16 à 35 €  48.856626   \n",
       "51           Tapas,Bar à vins / Cave à manger  De 36 à 50 €  48.869447   \n",
       "94   Bistrot,Tapas,Bar à vins / Cave à manger  De 16 à 35 €  48.862374   \n",
       "450          Tapas,Bar à vins / Cave à manger  De 16 à 35 €  48.864598   \n",
       "\n",
       "     Longitude  \n",
       "1     2.379403  \n",
       "51    2.371115  \n",
       "94    2.378141  \n",
       "450   2.371868  "
      ]
     },
     "execution_count": 8,
     "metadata": {},
     "output_type": "execute_result"
    }
   ],
   "source": [
    "nom=''\n",
    "cp='75011'\n",
    "spe='Tapas'\n",
    "\n",
    "df_resto[(df_resto['CP'].str.contains(cp))&(df_resto['Nom'].str.contains(nom))&(df_resto['Spécialitées'].str.contains(spe))]"
   ]
  },
  {
   "cell_type": "code",
   "execution_count": 33,
   "metadata": {},
   "outputs": [
    {
     "data": {
      "text/html": [
       "<div>\n",
       "<style scoped>\n",
       "    .dataframe tbody tr th:only-of-type {\n",
       "        vertical-align: middle;\n",
       "    }\n",
       "\n",
       "    .dataframe tbody tr th {\n",
       "        vertical-align: top;\n",
       "    }\n",
       "\n",
       "    .dataframe thead th {\n",
       "        text-align: right;\n",
       "    }\n",
       "</style>\n",
       "<table border=\"1\" class=\"dataframe\">\n",
       "  <thead>\n",
       "    <tr style=\"text-align: right;\">\n",
       "      <th></th>\n",
       "      <th>Nom</th>\n",
       "      <th>Ville</th>\n",
       "      <th>Voie</th>\n",
       "      <th>CP</th>\n",
       "      <th>Télephone</th>\n",
       "      <th>Spécialitées</th>\n",
       "      <th>Prix</th>\n",
       "      <th>Latitute</th>\n",
       "      <th>Longitude</th>\n",
       "    </tr>\n",
       "  </thead>\n",
       "  <tbody>\n",
       "    <tr>\n",
       "      <th>1</th>\n",
       "      <td>Basique</td>\n",
       "      <td>Paris</td>\n",
       "      <td>164, av. Ledru-Rollin</td>\n",
       "      <td>75011</td>\n",
       "      <td>+33 1 40 24 20 48</td>\n",
       "      <td>Tapas</td>\n",
       "      <td>De 16 à 35 €</td>\n",
       "      <td>48.856626</td>\n",
       "      <td>2.379403</td>\n",
       "    </tr>\n",
       "    <tr>\n",
       "      <th>51</th>\n",
       "      <td>Le Dauphin</td>\n",
       "      <td>Paris</td>\n",
       "      <td>131, av. Parmentier</td>\n",
       "      <td>75011</td>\n",
       "      <td>+33 1 55 28 78 88</td>\n",
       "      <td>Tapas,Bar à vins / Cave à manger</td>\n",
       "      <td>De 36 à 50 €</td>\n",
       "      <td>48.869447</td>\n",
       "      <td>2.371115</td>\n",
       "    </tr>\n",
       "    <tr>\n",
       "      <th>94</th>\n",
       "      <td>Le P’tit Pinard</td>\n",
       "      <td>Paris</td>\n",
       "      <td>18, rue Saint-Ambroise</td>\n",
       "      <td>75011</td>\n",
       "      <td>+33 9 87 02 00 11</td>\n",
       "      <td>Bistrot,Tapas,Bar à vins / Cave à manger</td>\n",
       "      <td>De 16 à 35 €</td>\n",
       "      <td>48.862374</td>\n",
       "      <td>2.378141</td>\n",
       "    </tr>\n",
       "    <tr>\n",
       "      <th>450</th>\n",
       "      <td>Aux Deux Amis</td>\n",
       "      <td>Paris</td>\n",
       "      <td>45, rue Oberkampf</td>\n",
       "      <td>75011</td>\n",
       "      <td>+33 1 58 30 38 13</td>\n",
       "      <td>Tapas,Bar à vins / Cave à manger</td>\n",
       "      <td>De 16 à 35 €</td>\n",
       "      <td>48.864598</td>\n",
       "      <td>2.371868</td>\n",
       "    </tr>\n",
       "  </tbody>\n",
       "</table>\n",
       "</div>"
      ],
      "text/plain": [
       "                 Nom  Ville                    Voie     CP          Télephone  \\\n",
       "1            Basique  Paris   164, av. Ledru-Rollin  75011  +33 1 40 24 20 48   \n",
       "51        Le Dauphin  Paris     131, av. Parmentier  75011  +33 1 55 28 78 88   \n",
       "94   Le P’tit Pinard  Paris  18, rue Saint-Ambroise  75011  +33 9 87 02 00 11   \n",
       "450    Aux Deux Amis  Paris      45, rue Oberkampf   75011  +33 1 58 30 38 13   \n",
       "\n",
       "                                 Spécialitées          Prix   Latitute  \\\n",
       "1                                       Tapas  De 16 à 35 €  48.856626   \n",
       "51           Tapas,Bar à vins / Cave à manger  De 36 à 50 €  48.869447   \n",
       "94   Bistrot,Tapas,Bar à vins / Cave à manger  De 16 à 35 €  48.862374   \n",
       "450          Tapas,Bar à vins / Cave à manger  De 16 à 35 €  48.864598   \n",
       "\n",
       "     Longitude  \n",
       "1     2.379403  \n",
       "51    2.371115  \n",
       "94    2.378141  \n",
       "450   2.371868  "
      ]
     },
     "execution_count": 33,
     "metadata": {},
     "output_type": "execute_result"
    }
   ],
   "source": [
    "def search(nom, spe,cp):\n",
    "    return df_resto[(df_resto['CP'].str.contains(cp))&(df_resto['Nom'].str.contains(nom))&(df_resto['Spécialitées'].str.contains(spe))]\n",
    "    \n",
    "search('','Tapas','011')"
   ]
  },
  {
   "cell_type": "markdown",
   "metadata": {},
   "source": [
    "Tests"
   ]
  },
  {
   "cell_type": "code",
   "execution_count": 25,
   "metadata": {},
   "outputs": [
    {
     "data": {
      "application/vnd.jupyter.widget-view+json": {
       "model_id": "9d161cdd97f5404797399d50dc86fed0",
       "version_major": 2,
       "version_minor": 0
      },
      "text/plain": [
       "VBox(children=(Text(value='Nom du restaurant', description='Nom :'), Text(value='CP', description='CP :'), Dro…"
      ]
     },
     "metadata": {},
     "output_type": "display_data"
    }
   ],
   "source": [
    "import folium\n",
    "import ipywidgets as widgets\n",
    "\n",
    "nom = widgets.Text(\n",
    "       value='Nom du restaurant',\n",
    "       description='Nom :', )\n",
    "cp = widgets.Text(\n",
    "       value='CP',\n",
    "       description='CP :', )\n",
    "spe = widgets.Dropdown(\n",
    "       options=l_spe,\n",
    "       description='Spécialité :')\n",
    "butt = widgets.Button(description='Valider ma recherche')\n",
    "outt = widgets.Output()\n",
    "\n",
    "m = folium.Map(location=[48.862374, 2.378141])\n",
    "\n",
    "\n",
    "\n",
    "\n",
    "#button = widgets.Button(description='Valider ma recherche')\n",
    "\n",
    "\n",
    "def on_button_clicked(_):\n",
    "      # \"linking function with output\"\n",
    "      with out:\n",
    "        df_search=search(nom,spe,cp)\n",
    "        for i in df_search.index:\n",
    "           folium.Marker(\n",
    "              location=[df_search['Latitute'].loc[i], df_search['Longitude'].loc[i]],\n",
    "              popup=df_search['Nom'].loc[i],\n",
    "              icon=folium.Icon(icon='cutlery')\n",
    "           ).add_to(m)\n",
    "        print(m)\n",
    "        df_search\n",
    "\n",
    "# displaying button and its output together\n",
    "button.on_click(on_button_clicked)\n",
    "widgets.VBox([nom, cp, spe,butt,outt])"
   ]
  },
  {
   "cell_type": "markdown",
   "metadata": {},
   "source": [
    "FINAL"
   ]
  },
  {
   "cell_type": "code",
   "execution_count": 31,
   "metadata": {},
   "outputs": [
    {
     "name": "stdout",
     "output_type": "stream",
     "text": [
      "Nom : \n",
      "CP : 75011\n"
     ]
    },
    {
     "data": {
      "application/vnd.jupyter.widget-view+json": {
       "model_id": "6dbc1577dfde4f318d3f95d7a8280b87",
       "version_major": 2,
       "version_minor": 0
      },
      "text/plain": [
       "Dropdown(options=('Basque', 'Yiddish', 'Casse-croûte', 'Salon de thé / Pâtisserie', 'Snack / Tartes / Salades …"
      ]
     },
     "metadata": {},
     "output_type": "display_data"
    }
   ],
   "source": [
    "nom=str(input(\"Nom : \"))\n",
    "cp=str(input(\"CP : \"))\n",
    "d = widgets.Dropdown(options=l_spe, value=None)\n",
    "d\n"
   ]
  },
  {
   "cell_type": "code",
   "execution_count": 32,
   "metadata": {},
   "outputs": [
    {
     "data": {
      "text/html": [
       "<div style=\"width:100%;\"><div style=\"position:relative;width:100%;height:0;padding-bottom:60%;\"><span style=\"color:#565656\">Make this Notebook Trusted to load map: File -> Trust Notebook</span><iframe src=\"about:blank\" style=\"position:absolute;width:100%;height:100%;left:0;top:0;border:none !important;\" data-html=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 onload=\"this.contentDocument.open();this.contentDocument.write(atob(this.getAttribute('data-html')));this.contentDocument.close();\" allowfullscreen webkitallowfullscreen mozallowfullscreen></iframe></div></div>"
      ],
      "text/plain": [
       "<folium.folium.Map at 0x1530261b848>"
      ]
     },
     "execution_count": 32,
     "metadata": {},
     "output_type": "execute_result"
    }
   ],
   "source": [
    "spe=str(d.value)\n",
    "\n",
    "df_search=search(nom,spe,cp)\n",
    "for i in df_search.index:\n",
    "   folium.Marker(\n",
    "      location=[df_search['Latitute'].loc[i], df_search['Longitude'].loc[i]],\n",
    "      popup=df_search['Nom'].loc[i],\n",
    "      icon=folium.Icon(icon='cutlery')\n",
    "\n",
    "   ).add_to(m)\n",
    "\n",
    "m"
   ]
  }
 ],
 "metadata": {
  "kernelspec": {
   "display_name": "Python 3",
   "language": "python",
   "name": "python3"
  },
  "language_info": {
   "codemirror_mode": {
    "name": "ipython",
    "version": 3
   },
   "file_extension": ".py",
   "mimetype": "text/x-python",
   "name": "python",
   "nbconvert_exporter": "python",
   "pygments_lexer": "ipython3",
   "version": "3.7.6"
  }
 },
 "nbformat": 4,
 "nbformat_minor": 4
}
